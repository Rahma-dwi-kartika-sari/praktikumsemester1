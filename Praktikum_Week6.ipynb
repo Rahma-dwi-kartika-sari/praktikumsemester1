{
  "nbformat": 4,
  "nbformat_minor": 0,
  "metadata": {
    "colab": {
      "provenance": []
    },
    "kernelspec": {
      "name": "python3",
      "display_name": "Python 3"
    },
    "language_info": {
      "name": "python"
    }
  },
  "cells": [
    {
      "cell_type": "code",
      "source": [
        "range(3)"
      ],
      "metadata": {
        "colab": {
          "base_uri": "https://localhost:8080/"
        },
        "id": "XjWNzejBjOju",
        "outputId": "36157847-cab3-4d76-e01c-b0853613c20b"
      },
      "execution_count": 8,
      "outputs": [
        {
          "output_type": "execute_result",
          "data": {
            "text/plain": [
              "range(0, 3)"
            ]
          },
          "metadata": {},
          "execution_count": 8
        }
      ]
    },
    {
      "cell_type": "code",
      "source": [
        "dates = [1982,1980,1973]\n",
        "N = len(dates)\n",
        "\n",
        "for i in range(N):\n",
        "    print(dates[i])"
      ],
      "metadata": {
        "colab": {
          "base_uri": "https://localhost:8080/"
        },
        "id": "iGB_OG09hF09",
        "outputId": "90dde593-e41b-4300-f848-46e1277d9832"
      },
      "execution_count": 9,
      "outputs": [
        {
          "output_type": "stream",
          "name": "stdout",
          "text": [
            "1982\n",
            "1980\n",
            "1973\n"
          ]
        }
      ]
    },
    {
      "cell_type": "code",
      "source": [
        "for i in range(-2, 8):\n",
        "    print(i)"
      ],
      "metadata": {
        "colab": {
          "base_uri": "https://localhost:8080/"
        },
        "id": "0sWsj-Bytrcp",
        "outputId": "0e05176f-2c55-46e8-9b38-855fd2fc7ebd"
      },
      "execution_count": 10,
      "outputs": [
        {
          "output_type": "stream",
          "name": "stdout",
          "text": [
            "-2\n",
            "-1\n",
            "0\n",
            "1\n",
            "2\n",
            "3\n",
            "4\n",
            "5\n",
            "6\n",
            "7\n"
          ]
        }
      ]
    },
    {
      "cell_type": "code",
      "source": [
        "for i in range(-2, 8):\n",
        "    print(i)"
      ],
      "metadata": {
        "colab": {
          "base_uri": "https://localhost:8080/"
        },
        "id": "20rFWUEmjVP3",
        "outputId": "0563f259-93cd-4bed-faba-ec6400dba863"
      },
      "execution_count": 11,
      "outputs": [
        {
          "output_type": "stream",
          "name": "stdout",
          "text": [
            "-2\n",
            "-1\n",
            "0\n",
            "1\n",
            "2\n",
            "3\n",
            "4\n",
            "5\n",
            "6\n",
            "7\n"
          ]
        }
      ]
    },
    {
      "cell_type": "code",
      "source": [
        "for year in dates:\n",
        "    print(year)"
      ],
      "metadata": {
        "colab": {
          "base_uri": "https://localhost:8080/"
        },
        "id": "A9747b7BjW_p",
        "outputId": "264dfc9a-4a09-422b-bb1d-a07cee0244df"
      },
      "execution_count": 12,
      "outputs": [
        {
          "output_type": "stream",
          "name": "stdout",
          "text": [
            "1982\n",
            "1980\n",
            "1973\n"
          ]
        }
      ]
    },
    {
      "cell_type": "code",
      "source": [
        "squares = ['red', 'yellow', 'green', 'purple', 'blue']\n",
        "\n",
        "for i in range(0, 5):\n",
        "    print(\"Before square \", i, 'is',  squares[i])\n",
        "    squares[i] = 'weight'\n",
        "    print(\"After square \", i, 'is',  squares[i])"
      ],
      "metadata": {
        "colab": {
          "base_uri": "https://localhost:8080/"
        },
        "id": "KcmvFBGrhdfu",
        "outputId": "f2ce581b-9a9d-4f63-ac14-429fab38cbed"
      },
      "execution_count": 13,
      "outputs": [
        {
          "output_type": "stream",
          "name": "stdout",
          "text": [
            "Before square  0 is red\n",
            "After square  0 is weight\n",
            "Before square  1 is yellow\n",
            "After square  1 is weight\n",
            "Before square  2 is green\n",
            "After square  2 is weight\n",
            "Before square  3 is purple\n",
            "After square  3 is weight\n",
            "Before square  4 is blue\n",
            "After square  4 is weight\n"
          ]
        }
      ]
    },
    {
      "cell_type": "code",
      "source": [
        "squares=['red', 'yellow', 'green', 'purple', 'blue']\n",
        "\n",
        "for i, square in enumerate(squares):\n",
        "    print(i, square)"
      ],
      "metadata": {
        "colab": {
          "base_uri": "https://localhost:8080/"
        },
        "id": "v7SWm01DjZn5",
        "outputId": "5021238b-e348-4ac7-d6dd-2bb4cdbc4e90"
      },
      "execution_count": 14,
      "outputs": [
        {
          "output_type": "stream",
          "name": "stdout",
          "text": [
            "0 red\n",
            "1 yellow\n",
            "2 green\n",
            "3 purple\n",
            "4 blue\n"
          ]
        }
      ]
    },
    {
      "cell_type": "code",
      "source": [
        "dates = [1982, 1980, 1973, 2000]\n",
        "\n",
        "i = 0\n",
        "year = 0\n",
        "\n",
        "while(year != 1973):\n",
        "    year = dates[i]\n",
        "    i = i + 1\n",
        "    print(year)\n",
        "\n",
        "print(\"It took \", i ,\"repetitions to get out of loop.\")"
      ],
      "metadata": {
        "id": "6cdwJSmzlF-q",
        "outputId": "4ee76364-e4f4-4783-fa71-6208e2ed0f3b",
        "colab": {
          "base_uri": "https://localhost:8080/"
        }
      },
      "execution_count": 15,
      "outputs": [
        {
          "output_type": "stream",
          "name": "stdout",
          "text": [
            "1982\n",
            "1980\n",
            "1973\n",
            "It took  3 repetitions to get out of loop.\n"
          ]
        }
      ]
    },
    {
      "cell_type": "code",
      "source": [
        "for i in range(1, 11):\n",
        "    for j in range(1, 11):\n",
        "        print(i * j, end=' ')\n",
        "    print()"
      ],
      "metadata": {
        "id": "aTDJeGZF6mnD",
        "outputId": "63a701e6-61f9-4eaa-d441-ac4db4ed3689",
        "colab": {
          "base_uri": "https://localhost:8080/"
        }
      },
      "execution_count": 16,
      "outputs": [
        {
          "output_type": "stream",
          "name": "stdout",
          "text": [
            "1 2 3 4 5 6 7 8 9 10 \n",
            "2 4 6 8 10 12 14 16 18 20 \n",
            "3 6 9 12 15 18 21 24 27 30 \n",
            "4 8 12 16 20 24 28 32 36 40 \n",
            "5 10 15 20 25 30 35 40 45 50 \n",
            "6 12 18 24 30 36 42 48 54 60 \n",
            "7 14 21 28 35 42 49 56 63 70 \n",
            "8 16 24 32 40 48 56 64 72 80 \n",
            "9 18 27 36 45 54 63 72 81 90 \n",
            "10 20 30 40 50 60 70 80 90 100 \n"
          ]
        }
      ]
    },
    {
      "cell_type": "code",
      "source": [
        "names = ['Kelly', 'Jessa', 'Emma']\n",
        "\n",
        "for name in names:\n",
        "    count = 0\n",
        "    while count < 5:\n",
        "        print(name, end=' ')\n",
        "        count = count + 1\n",
        "    print()"
      ],
      "metadata": {
        "colab": {
          "base_uri": "https://localhost:8080/"
        },
        "id": "k1xGO8vVzLEk",
        "outputId": "227c4463-aa77-427f-f490-9846dba1f845"
      },
      "execution_count": 17,
      "outputs": [
        {
          "output_type": "stream",
          "name": "stdout",
          "text": [
            "Kelly Kelly Kelly Kelly Kelly \n",
            "Jessa Jessa Jessa Jessa Jessa \n",
            "Emma Emma Emma Emma Emma \n"
          ]
        }
      ]
    },
    {
      "cell_type": "code",
      "source": [
        "for i in range(4):\n",
        "    for j in range(4):\n",
        "        if j == i:\n",
        "            break\n",
        "        print(i, j)"
      ],
      "metadata": {
        "colab": {
          "base_uri": "https://localhost:8080/"
        },
        "id": "cCJe2PSa09aH",
        "outputId": "a5fd19f1-db69-40d6-e13c-32f8cee5e306"
      },
      "execution_count": 18,
      "outputs": [
        {
          "output_type": "stream",
          "name": "stdout",
          "text": [
            "1 0\n",
            "2 0\n",
            "2 1\n",
            "3 0\n",
            "3 1\n",
            "3 2\n"
          ]
        }
      ]
    },
    {
      "cell_type": "code",
      "source": [
        "first = [2, 4, 6]\n",
        "second = [2, 4, 6]\n",
        "for i in first:\n",
        "    for j in second:\n",
        "        if i == j:\n",
        "            continue\n",
        "        print(i, '*', j, '= ', i * j)"
      ],
      "metadata": {
        "colab": {
          "base_uri": "https://localhost:8080/"
        },
        "id": "v5hPPSpwjyaD",
        "outputId": "ad61d1ea-0752-4d62-8146-db4ab550f915"
      },
      "execution_count": 19,
      "outputs": [
        {
          "output_type": "stream",
          "name": "stdout",
          "text": [
            "2 * 4 =  8\n",
            "2 * 6 =  12\n",
            "4 * 2 =  8\n",
            "4 * 6 =  24\n",
            "6 * 2 =  12\n",
            "6 * 4 =  24\n"
          ]
        }
      ]
    },
    {
      "cell_type": "code",
      "source": [
        "i = 1\n",
        "while i <= 5:\n",
        "    j = 1\n",
        "    while j <= 10:\n",
        "        print(j, end='')\n",
        "        j = j + 1\n",
        "    i = i + 1\n",
        "    print()"
      ],
      "metadata": {
        "colab": {
          "base_uri": "https://localhost:8080/"
        },
        "id": "f4PJDV7ymkYd",
        "outputId": "5dda6572-20a3-4050-832b-4d82ea8c10f7"
      },
      "execution_count": 20,
      "outputs": [
        {
          "output_type": "stream",
          "name": "stdout",
          "text": [
            "12345678910\n",
            "12345678910\n",
            "12345678910\n",
            "12345678910\n",
            "12345678910\n"
          ]
        }
      ]
    },
    {
      "cell_type": "code",
      "source": [
        "print('Show Perfect number fom 1 to 100')\n",
        "n = 2\n",
        "# outer while loop\n",
        "while n <= 100:\n",
        "    x_sum = 0\n",
        "    # inner for loop\n",
        "    for i in range(1, n):\n",
        "        if n % i == 0:\n",
        "            x_sum += i\n",
        "    if x_sum == n:\n",
        "        print('Perfect number:', n)\n",
        "    n += 1"
      ],
      "metadata": {
        "colab": {
          "base_uri": "https://localhost:8080/"
        },
        "id": "ES7G7cvQqLim",
        "outputId": "3b27bcc6-6487-49df-8341-b8215da0860f"
      },
      "execution_count": 21,
      "outputs": [
        {
          "output_type": "stream",
          "name": "stdout",
          "text": [
            "Show Perfect number fom 1 to 100\n",
            "Perfect number: 6\n",
            "Perfect number: 28\n"
          ]
        }
      ]
    },
    {
      "cell_type": "markdown",
      "source": [
        "**EXCERCISE 1** **bold text**"
      ],
      "metadata": {
        "id": "CrQWjBm4WlKJ"
      }
    },
    {
      "cell_type": "code",
      "source": [
        "star = int(input(\"Masukkan jumlah baris: \"))\n",
        "baris = star - 1\n",
        "print()\n",
        "for i in range(0, star):\n",
        "  for j in range(0, star):\n",
        "    print(\" \", end=\"\")\n",
        "  star -= 1\n",
        "  for j in range(0, i +1):\n",
        "    print(\"*\", end=\" \")\n",
        "  print(\"\")"
      ],
      "metadata": {
        "colab": {
          "base_uri": "https://localhost:8080/"
        },
        "id": "3zeZW09WpIi2",
        "outputId": "34631c63-e5d8-4053-d59b-554df64d0583"
      },
      "execution_count": 22,
      "outputs": [
        {
          "output_type": "stream",
          "name": "stdout",
          "text": [
            "Masukkan jumlah baris: 30\n",
            "\n",
            "                              * \n",
            "                             * * \n",
            "                            * * * \n",
            "                           * * * * \n",
            "                          * * * * * \n",
            "                         * * * * * * \n",
            "                        * * * * * * * \n",
            "                       * * * * * * * * \n",
            "                      * * * * * * * * * \n",
            "                     * * * * * * * * * * \n",
            "                    * * * * * * * * * * * \n",
            "                   * * * * * * * * * * * * \n",
            "                  * * * * * * * * * * * * * \n",
            "                 * * * * * * * * * * * * * * \n",
            "                * * * * * * * * * * * * * * * \n",
            "               * * * * * * * * * * * * * * * * \n",
            "              * * * * * * * * * * * * * * * * * \n",
            "             * * * * * * * * * * * * * * * * * * \n",
            "            * * * * * * * * * * * * * * * * * * * \n",
            "           * * * * * * * * * * * * * * * * * * * * \n",
            "          * * * * * * * * * * * * * * * * * * * * * \n",
            "         * * * * * * * * * * * * * * * * * * * * * * \n",
            "        * * * * * * * * * * * * * * * * * * * * * * * \n",
            "       * * * * * * * * * * * * * * * * * * * * * * * * \n",
            "      * * * * * * * * * * * * * * * * * * * * * * * * * \n",
            "     * * * * * * * * * * * * * * * * * * * * * * * * * * \n",
            "    * * * * * * * * * * * * * * * * * * * * * * * * * * * \n",
            "   * * * * * * * * * * * * * * * * * * * * * * * * * * * * \n",
            "  * * * * * * * * * * * * * * * * * * * * * * * * * * * * * \n",
            " * * * * * * * * * * * * * * * * * * * * * * * * * * * * * * \n"
          ]
        }
      ]
    },
    {
      "cell_type": "markdown",
      "source": [
        "# **EXCERCISE 2**"
      ],
      "metadata": {
        "id": "WW4Fhfvz9Ekr"
      }
    },
    {
      "cell_type": "code",
      "source": [
        "pascal = int(input(\"jumlah baris segitiga pascal = \"))\n",
        "\n",
        "for i in range(1, pascal + 1):\n",
        "    for j in range(0, pascal - i+1):\n",
        "        print(\" \", end=\"\")\n",
        "        n = 1\n",
        "    for j in range(1, i+1):\n",
        "        print(\" \", n, sep='', end='')\n",
        "        n = n * (i-j)//j\n",
        "\n",
        "    print()"
      ],
      "metadata": {
        "colab": {
          "base_uri": "https://localhost:8080/"
        },
        "id": "oFU_Gy1vs-LC",
        "outputId": "f7d4cdeb-235e-4da3-e5ff-5acbf84e8154"
      },
      "execution_count": 23,
      "outputs": [
        {
          "output_type": "stream",
          "name": "stdout",
          "text": [
            "jumlah baris segitiga pascal = 4\n",
            "     1\n",
            "    1 1\n",
            "   1 2 1\n",
            "  1 3 3 1\n"
          ]
        }
      ]
    },
    {
      "cell_type": "markdown",
      "source": [
        "# **EXCERCISE 3**"
      ],
      "metadata": {
        "id": "I3Xc6isj9H7j"
      }
    },
    {
      "cell_type": "code",
      "source": [
        "baris = int(input(\"Masukkan jumlah baris: \"))\n",
        "baris_penjumlahan = int(input(\"Masukkan baris yang ingin dijumlahkan: \"))\n",
        "\n",
        "if baris_penjumlahan <= baris:\n",
        "    total = 0\n",
        "    for x in range(baris):\n",
        "        z = 1\n",
        "        if x == baris_penjumlahan - 1:\n",
        "            for y in range(x + 1):\n",
        "                print(z, end=' ')\n",
        "                total += z\n",
        "                z = z * (x - y) // (y + 1)\n",
        "            print(f\"= {total}\")\n",
        "            break\n",
        "else:\n",
        "   print(f\"Error: Baris yang ingin dijumlahkan ({baris_penjumlahan}) melebihi jumlah baris yang tersedia ({baris})\")"
      ],
      "metadata": {
        "colab": {
          "base_uri": "https://localhost:8080/"
        },
        "id": "gLqk0Rd2jhMA",
        "outputId": "0867aa4f-658a-459f-f810-87ad32d4a27c"
      },
      "execution_count": 24,
      "outputs": [
        {
          "output_type": "stream",
          "name": "stdout",
          "text": [
            "Masukkan jumlah baris: 5\n",
            "Masukkan baris yang ingin dijumlahkan: 5\n",
            "1 4 6 4 1 = 16\n"
          ]
        }
      ]
    }
  ]
}
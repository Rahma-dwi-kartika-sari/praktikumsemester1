{
  "nbformat": 4,
  "nbformat_minor": 0,
  "metadata": {
    "colab": {
      "provenance": []
    },
    "kernelspec": {
      "name": "python3",
      "display_name": "Python 3"
    },
    "language_info": {
      "name": "python"
    }
  },
  "cells": [
    {
      "cell_type": "code",
      "execution_count": null,
      "metadata": {
        "colab": {
          "base_uri": "https://localhost:8080/"
        },
        "id": "inW_Xm9t3l0z",
        "outputId": "e77549aa-e5e8-45f1-d991-dde5d6961d74"
      },
      "outputs": [
        {
          "output_type": "stream",
          "name": "stdout",
          "text": [
            "Hello from a function\n"
          ]
        }
      ],
      "source": [
        "#Call Function\n",
        "def my_function():\n",
        "  print(\"Hello from a function\")\n",
        "my_function()"
      ]
    },
    {
      "cell_type": "code",
      "source": [
        "#Argument\n",
        "def my_function(fname):\n",
        "  print(fname + \" Sitohang\")\n",
        "\n",
        "my_function(\"Tobio\")\n",
        "my_function(\"Tohir\")\n",
        "my_function(\"Tobi\")"
      ],
      "metadata": {
        "colab": {
          "base_uri": "https://localhost:8080/"
        },
        "id": "qM1k06Me8Gt3",
        "outputId": "124428c3-d1af-4fa2-a76e-7f60a0e0d225"
      },
      "execution_count": null,
      "outputs": [
        {
          "output_type": "stream",
          "name": "stdout",
          "text": [
            "Tobio Sitohang\n",
            "Tohir Sitohang\n",
            "Tobi Sitohang\n"
          ]
        }
      ]
    },
    {
      "cell_type": "code",
      "source": [
        "#This function expects 2 arguments, but gets only 1:\n",
        "def my_function(fname, lname):\n",
        "  print(fname + \" \" + lname)\n",
        "\n",
        "my_function(\"Surip\")"
      ],
      "metadata": {
        "colab": {
          "base_uri": "https://localhost:8080/",
          "height": 185
        },
        "id": "JxN2YdRD8KEv",
        "outputId": "6b16b57f-dfc3-447d-9b86-c363d7223015"
      },
      "execution_count": null,
      "outputs": [
        {
          "output_type": "error",
          "ename": "TypeError",
          "evalue": "my_function() missing 1 required positional argument: 'lname'",
          "traceback": [
            "\u001b[0;31m---------------------------------------------------------------------------\u001b[0m",
            "\u001b[0;31mTypeError\u001b[0m                                 Traceback (most recent call last)",
            "\u001b[0;32m<ipython-input-8-2a8f743861d0>\u001b[0m in \u001b[0;36m<cell line: 5>\u001b[0;34m()\u001b[0m\n\u001b[1;32m      3\u001b[0m   \u001b[0mprint\u001b[0m\u001b[0;34m(\u001b[0m\u001b[0mfname\u001b[0m \u001b[0;34m+\u001b[0m \u001b[0;34m\" \"\u001b[0m \u001b[0;34m+\u001b[0m \u001b[0mlname\u001b[0m\u001b[0;34m)\u001b[0m\u001b[0;34m\u001b[0m\u001b[0;34m\u001b[0m\u001b[0m\n\u001b[1;32m      4\u001b[0m \u001b[0;34m\u001b[0m\u001b[0m\n\u001b[0;32m----> 5\u001b[0;31m \u001b[0mmy_function\u001b[0m\u001b[0;34m(\u001b[0m\u001b[0;34m\"Surip\"\u001b[0m\u001b[0;34m)\u001b[0m\u001b[0;34m\u001b[0m\u001b[0;34m\u001b[0m\u001b[0m\n\u001b[0m",
            "\u001b[0;31mTypeError\u001b[0m: my_function() missing 1 required positional argument: 'lname'"
          ]
        }
      ]
    },
    {
      "cell_type": "code",
      "source": [
        "#This function expects 2 arguments, and gets 2 arguments:\n",
        "def my_function(fname, lname):\n",
        "  print(fname + \" \" + lname)\n",
        "\n",
        "my_function(\"Toha\", \"Sitohang\")"
      ],
      "metadata": {
        "colab": {
          "base_uri": "https://localhost:8080/"
        },
        "id": "9ishsjPC9ZUa",
        "outputId": "64968959-9aaf-4cdd-c4d1-adc3e2b970b0"
      },
      "execution_count": null,
      "outputs": [
        {
          "output_type": "stream",
          "name": "stdout",
          "text": [
            "Toha Sitohang\n"
          ]
        }
      ]
    },
    {
      "cell_type": "code",
      "source": [
        "#If the number of arguments is unknown, add a * before the parameter name:\n",
        "\n",
        "def my_function(*kids):\n",
        "  print(\"The youngest child is \" + kids[2])\n",
        "\n",
        "my_function(\"Lekyung\", \"Jimin\", \"Yuta\")\n"
      ],
      "metadata": {
        "colab": {
          "base_uri": "https://localhost:8080/"
        },
        "id": "HAttT6ga_LvQ",
        "outputId": "fb1d7a61-f329-45d3-f87f-f7587782f438"
      },
      "execution_count": null,
      "outputs": [
        {
          "output_type": "stream",
          "name": "stdout",
          "text": [
            "The youngest child is Yuta\n"
          ]
        }
      ]
    },
    {
      "cell_type": "code",
      "source": [
        "def my_function(child3, child2, child1):\n",
        "  print(\"The youngest child is \" + child3)\n",
        "\n",
        "my_function(child1 = \"Lekyung\", child2 = \"Yuta\", child3 = \"Jimin\")"
      ],
      "metadata": {
        "colab": {
          "base_uri": "https://localhost:8080/"
        },
        "id": "XGMnQzJmBO0p",
        "outputId": "ef5e5ce8-7700-4d6c-efa1-336c4e0f7c21"
      },
      "execution_count": null,
      "outputs": [
        {
          "output_type": "stream",
          "name": "stdout",
          "text": [
            "The youngest child is Jimin\n"
          ]
        }
      ]
    },
    {
      "cell_type": "code",
      "source": [
        "#If the number of keyword arguments is unknown, add a double ** before the parameter name:\n",
        "def my_function(**kid):\n",
        "  print(\"His first name is \" + kid[\"lname\"])\n",
        "\n",
        "my_function(fname = \"Lee\", lname = \"Jimin\")"
      ],
      "metadata": {
        "colab": {
          "base_uri": "https://localhost:8080/"
        },
        "id": "775Czf11CajY",
        "outputId": "38c4351b-1167-4aaf-f4cd-8ad107e9aca3"
      },
      "execution_count": null,
      "outputs": [
        {
          "output_type": "stream",
          "name": "stdout",
          "text": [
            "His first name is Jimin\n"
          ]
        }
      ]
    },
    {
      "cell_type": "code",
      "source": [
        "#Default\n",
        "def my_function(country = \"Indonesia\"):\n",
        "  print(\"I am from \" + country)\n",
        "\n",
        "my_function(\"Jepang\")\n",
        "my_function(\"Arab Saudi\")\n",
        "my_function()\n",
        "my_function(\"Eropa\")"
      ],
      "metadata": {
        "colab": {
          "base_uri": "https://localhost:8080/"
        },
        "id": "N46NkU1GDUPp",
        "outputId": "f7dde9ca-793a-443b-dbde-13c729e94494"
      },
      "execution_count": null,
      "outputs": [
        {
          "output_type": "stream",
          "name": "stdout",
          "text": [
            "I am from Jepang\n",
            "I am from Arab Saudi\n",
            "I am from Indonesia\n",
            "I am from Eropa\n"
          ]
        }
      ]
    },
    {
      "cell_type": "code",
      "source": [
        "#Passing list\n",
        "def my_function(food):\n",
        "  for x in food:\n",
        "    print(x)\n",
        "\n",
        "fruits = [\"apple\", \"banana\", \"cherry\"]\n",
        "\n",
        "my_function(fruits)"
      ],
      "metadata": {
        "colab": {
          "base_uri": "https://localhost:8080/"
        },
        "id": "VEDAnhDKE5ta",
        "outputId": "cbe6a9e7-55c9-4cb1-9586-5fe1d2c46cc8"
      },
      "execution_count": null,
      "outputs": [
        {
          "output_type": "stream",
          "name": "stdout",
          "text": [
            "apple\n",
            "banana\n",
            "cherry\n"
          ]
        }
      ]
    },
    {
      "cell_type": "code",
      "source": [
        "#Function return\n",
        "def my_function(x):\n",
        "  return 9 * x\n",
        "\n",
        "print(my_function(3))\n",
        "print(my_function(5))\n",
        "print(my_function(9))"
      ],
      "metadata": {
        "colab": {
          "base_uri": "https://localhost:8080/"
        },
        "id": "NenH6LQZFyoW",
        "outputId": "17b762a0-a87e-44c6-fd4d-d6eed07063ef"
      },
      "execution_count": null,
      "outputs": [
        {
          "output_type": "stream",
          "name": "stdout",
          "text": [
            "27\n",
            "45\n",
            "81\n"
          ]
        }
      ]
    },
    {
      "cell_type": "code",
      "source": [
        "#Pass statement\n",
        "def myfunction():\n",
        "  pass"
      ],
      "metadata": {
        "id": "dI4BL-mvGQvY"
      },
      "execution_count": null,
      "outputs": []
    },
    {
      "cell_type": "code",
      "source": [
        "#Recursion Example\n",
        "def tri_recursion(k):\n",
        "  if(k > 0):\n",
        "    result = k + tri_recursion(k - 1)\n",
        "    print(result)\n",
        "  else:\n",
        "    result = 0\n",
        "  return result\n",
        "\n",
        "print(\"\\n\\nRecursion Example Results\")\n",
        "tri_recursion(1)"
      ],
      "metadata": {
        "colab": {
          "base_uri": "https://localhost:8080/"
        },
        "id": "m2LP_mdpGb23",
        "outputId": "540a145d-286d-412a-ef8c-b3dfac439a9a"
      },
      "execution_count": null,
      "outputs": [
        {
          "output_type": "stream",
          "name": "stdout",
          "text": [
            "\n",
            "\n",
            "Recursion Example Results\n",
            "1\n"
          ]
        },
        {
          "output_type": "execute_result",
          "data": {
            "text/plain": [
              "1"
            ]
          },
          "metadata": {},
          "execution_count": 21
        }
      ]
    },
    {
      "cell_type": "markdown",
      "source": [
        "# **Weekly Exercise 1**"
      ],
      "metadata": {
        "id": "YW4E0pVRJAFL"
      }
    },
    {
      "cell_type": "code",
      "source": [
        "angka = int(input('Masukkan angka: '))\n",
        "\n",
        "def faktorial(y):\n",
        "    if y == 1:\n",
        "        return 1\n",
        "    else:\n",
        "        return (y * faktorial(y-1))\n",
        "\n",
        "print(\"\\nHasil dari Faktorial:\", faktorial(angka))"
      ],
      "metadata": {
        "colab": {
          "base_uri": "https://localhost:8080/"
        },
        "id": "m0y0pIgFHL9S",
        "outputId": "95ca22d2-e625-47e1-e21b-c1bdc6690cea"
      },
      "execution_count": null,
      "outputs": [
        {
          "output_type": "stream",
          "name": "stdout",
          "text": [
            "Masukkan angka: 3\n",
            "\n",
            "Hasil dari Faktorial: 6\n"
          ]
        }
      ]
    },
    {
      "cell_type": "markdown",
      "source": [
        "# **Weekly Exercise 2**"
      ],
      "metadata": {
        "id": "eP49R5T7Qb6F"
      }
    },
    {
      "cell_type": "code",
      "source": [
        "import math\n",
        "\n",
        "def luas_lingkaran(r):\n",
        "  return math.pi * r **2\n",
        "\n",
        "def luas_persegi(s):\n",
        "  return s**2\n",
        "\n",
        "def luas_segitiga(a, t):\n",
        "  return 0.5 * a * t\n",
        "\n",
        "while True:\n",
        "  print(\"\\nPilihan Perhitungan:\")\n",
        "  print(\"1. Luas Lingkaran\")\n",
        "  print(\"2. Luas Persegi\")\n",
        "  print(\"3. Luas Segitiga\")\n",
        "  print(\"4. Selesai\")\n",
        "\n",
        "  pilihan = input(\"Masukkan pilihan Anda (1/2/3/4): \")\n",
        "\n",
        "  if pilihan == '1':\n",
        "    r = float(input(\"Masukkan jari-jari lingkaran: \"))\n",
        "    L = luas_lingkaran(r)\n",
        "    print(\"Luas lingkaran:\", L)\n",
        "  elif pilihan == '2':\n",
        "    s = float(input(\"Masukkan panjang sisi persegi: \"))\n",
        "    L = luas_persegi(s)\n",
        "    print(\"Luas persegi:\", L)\n",
        "  elif pilihan == '3':\n",
        "    a = float(input(\"Masukkan panjang alas segitiga: \"))\n",
        "    t = float(input(\"Masukkan tinggi segitiga: \"))\n",
        "    L = luas_segitiga(a, t)\n",
        "    print(\"Luas segitiga:\", L)\n",
        "  elif pilihan == '4':\n",
        "    break\n",
        "  else:\n",
        "    print(\"Pilihan tidak valid. Silakan coba lagi.\")\n",
        "\n",
        "print(\"Program selesai.\")"
      ],
      "metadata": {
        "colab": {
          "base_uri": "https://localhost:8080/"
        },
        "id": "D7bAdrr1Jd3r",
        "outputId": "adfce2ba-fc65-4b2e-8319-c5fc5866ca2a"
      },
      "execution_count": 3,
      "outputs": [
        {
          "output_type": "stream",
          "name": "stdout",
          "text": [
            "\n",
            "Pilihan Perhitungan:\n",
            "1. Luas Lingkaran\n",
            "2. Luas Persegi\n",
            "3. Luas Segitiga\n",
            "4. Selesai\n",
            "Masukkan pilihan Anda (1/2/3/4): 3\n",
            "Masukkan panjang alas segitiga: 6\n",
            "Masukkan tinggi segitiga: 4\n",
            "Luas segitiga: 12.0\n",
            "\n",
            "Pilihan Perhitungan:\n",
            "1. Luas Lingkaran\n",
            "2. Luas Persegi\n",
            "3. Luas Segitiga\n",
            "4. Selesai\n",
            "Masukkan pilihan Anda (1/2/3/4): \n",
            "Pilihan tidak valid. Silakan coba lagi.\n",
            "\n",
            "Pilihan Perhitungan:\n",
            "1. Luas Lingkaran\n",
            "2. Luas Persegi\n",
            "3. Luas Segitiga\n",
            "4. Selesai\n",
            "Masukkan pilihan Anda (1/2/3/4): 4\n",
            "Program selesai.\n"
          ]
        }
      ]
    }
  ]
}
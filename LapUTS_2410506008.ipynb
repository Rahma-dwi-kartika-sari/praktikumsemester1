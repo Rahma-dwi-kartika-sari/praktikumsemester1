{
  "nbformat": 4,
  "nbformat_minor": 0,
  "metadata": {
    "colab": {
      "provenance": []
    },
    "kernelspec": {
      "name": "python3",
      "display_name": "Python 3"
    },
    "language_info": {
      "name": "python"
    }
  },
  "cells": [
    {
      "cell_type": "markdown",
      "source": [
        "# **Nomor 1**"
      ],
      "metadata": {
        "id": "6UzXdDuEDljW"
      }
    },
    {
      "cell_type": "code",
      "source": [
        "npm = input(\"Masukkan NPM Anda: \") # Variabel untuk menampung npm\n",
        "\n",
        "genap = 0 # variabel genap untuk menampung jumlah akhir\n",
        "ganjil = 0 # variabel ganjil untuk menampung jumlah akhir\n",
        "\n",
        "# Untuk menghitung jumlah genap dan ganjil dari npm\n",
        "for i in npm:\n",
        "  if int(i) % 2 == 0:\n",
        "    genap += 1\n",
        "  else:\n",
        "    ganjil += 1\n",
        "\n",
        "# Untuk mencetak jumlah bilangan genap dan ganjil ketika perhitungan sudah selesai\n",
        "print(f\"Jumlah bilangan genap: {genap}\")\n",
        "print(f\"Jumlah bilangan ganjil: {ganjil}\")"
      ],
      "metadata": {
        "colab": {
          "base_uri": "https://localhost:8080/"
        },
        "id": "Lpi_vd31CSrx",
        "outputId": "dd051516-58f9-48a2-deac-d583ff2151d6"
      },
      "execution_count": 7,
      "outputs": [
        {
          "output_type": "stream",
          "name": "stdout",
          "text": [
            "Masukkan NPM Anda: 2410506001\n",
            "Jumlah bilangan genap: 7\n",
            "Jumlah bilangan ganjil: 3\n"
          ]
        }
      ]
    },
    {
      "cell_type": "markdown",
      "source": [
        "# **Nomor 2**"
      ],
      "metadata": {
        "id": "gdcJ0I_iDogb"
      }
    },
    {
      "cell_type": "code",
      "execution_count": 5,
      "metadata": {
        "colab": {
          "base_uri": "https://localhost:8080/"
        },
        "id": "nNdHGPPHu4Xb",
        "outputId": "35b8c086-a034-4275-dd37-527b516ae4d9"
      },
      "outputs": [
        {
          "output_type": "stream",
          "name": "stdout",
          "text": [
            "Masukkan jumlah baris segitiga angka = 10\n",
            "1 \n",
            "2 4 \n",
            "3 6 9 \n",
            "4 8 12 16 \n",
            "5 10 15 20 25 \n",
            "6 12 18 24 30 36 \n",
            "7 14 21 28 35 42 49 \n",
            "8 16 24 32 40 48 56 64 \n",
            "9 18 27 36 45 54 63 72 81 \n",
            "10 20 30 40 50 60 70 80 90 100 \n"
          ]
        }
      ],
      "source": [
        "n = int(input(\"Masukkan jumlah baris segitiga angka = \"))\n",
        "\n",
        "for i in range(1, n + 1):\n",
        "  for j in range(1, i + 1):\n",
        "    print(i*j,  end=\" \")\n",
        "  print()"
      ]
    },
    {
      "cell_type": "code",
      "source": [
        "n = 10\n",
        "\n",
        "for i in range(1, n + 1):\n",
        "  for j in range(1, i + 1):\n",
        "    print(i*j,  end=\" \")\n",
        "  print()"
      ],
      "metadata": {
        "colab": {
          "base_uri": "https://localhost:8080/"
        },
        "id": "A7Chi9c97v4U",
        "outputId": "57628f88-2e49-4bed-ae05-f41b614aac45"
      },
      "execution_count": 6,
      "outputs": [
        {
          "output_type": "stream",
          "name": "stdout",
          "text": [
            "1 \n",
            "2 4 \n",
            "3 6 9 \n",
            "4 8 12 16 \n",
            "5 10 15 20 25 \n",
            "6 12 18 24 30 36 \n",
            "7 14 21 28 35 42 49 \n",
            "8 16 24 32 40 48 56 64 \n",
            "9 18 27 36 45 54 63 72 81 \n",
            "10 20 30 40 50 60 70 80 90 100 \n"
          ]
        }
      ]
    }
  ]
}
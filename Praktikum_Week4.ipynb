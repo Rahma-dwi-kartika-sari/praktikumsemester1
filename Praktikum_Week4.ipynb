{
  "nbformat": 4,
  "nbformat_minor": 0,
  "metadata": {
    "colab": {
      "provenance": []
    },
    "kernelspec": {
      "name": "python3",
      "display_name": "Python 3"
    },
    "language_info": {
      "name": "python"
    }
  },
  "cells": [
    {
      "cell_type": "markdown",
      "source": [
        "**Operator Pembanding**"
      ],
      "metadata": {
        "id": "5vgyQbyrS4Bp"
      }
    },
    {
      "cell_type": "code",
      "source": [
        "a = 5\n",
        "a == 5"
      ],
      "metadata": {
        "colab": {
          "base_uri": "https://localhost:8080/"
        },
        "id": "IdXc6bi0Koqu",
        "outputId": "2238a699-1b5a-4b1b-9064-5ac9ae900a19"
      },
      "execution_count": null,
      "outputs": [
        {
          "output_type": "execute_result",
          "data": {
            "text/plain": [
              "True"
            ]
          },
          "metadata": {},
          "execution_count": 1
        }
      ]
    },
    {
      "cell_type": "code",
      "source": [
        "i = 2\n",
        "i != 6"
      ],
      "metadata": {
        "colab": {
          "base_uri": "https://localhost:8080/"
        },
        "id": "s-8cdQrNK0by",
        "outputId": "8799f403-c77d-45b7-cc00-a50b15c13e23"
      },
      "execution_count": null,
      "outputs": [
        {
          "output_type": "execute_result",
          "data": {
            "text/plain": [
              "True"
            ]
          },
          "metadata": {},
          "execution_count": 2
        }
      ]
    },
    {
      "cell_type": "code",
      "source": [
        "i = 9\n",
        "i > 6"
      ],
      "metadata": {
        "colab": {
          "base_uri": "https://localhost:8080/"
        },
        "id": "-_vvi0fOLL7A",
        "outputId": "f0eab955-a719-41fa-8e21-608dafdba884"
      },
      "execution_count": null,
      "outputs": [
        {
          "output_type": "execute_result",
          "data": {
            "text/plain": [
              "True"
            ]
          },
          "metadata": {},
          "execution_count": 3
        }
      ]
    },
    {
      "cell_type": "code",
      "source": [
        "i = 6\n",
        "i < 10"
      ],
      "metadata": {
        "colab": {
          "base_uri": "https://localhost:8080/"
        },
        "id": "xsaDNJ2gLqg_",
        "outputId": "37ce9bef-ba99-4965-d5c3-1c133edb97ff"
      },
      "execution_count": null,
      "outputs": [
        {
          "output_type": "execute_result",
          "data": {
            "text/plain": [
              "True"
            ]
          },
          "metadata": {},
          "execution_count": 4
        }
      ]
    },
    {
      "cell_type": "code",
      "source": [
        "i = 7\n",
        "i >= 7"
      ],
      "metadata": {
        "colab": {
          "base_uri": "https://localhost:8080/"
        },
        "id": "A3M7MoJ-MEgA",
        "outputId": "d41a74cc-70db-4867-9b4d-9095e59447b2"
      },
      "execution_count": null,
      "outputs": [
        {
          "output_type": "execute_result",
          "data": {
            "text/plain": [
              "True"
            ]
          },
          "metadata": {},
          "execution_count": 5
        }
      ]
    },
    {
      "cell_type": "code",
      "source": [
        "i = 9\n",
        "i <= 10"
      ],
      "metadata": {
        "colab": {
          "base_uri": "https://localhost:8080/"
        },
        "id": "jtdN_XicMqxG",
        "outputId": "e52ac6ad-5a15-4da9-9785-dc309afed111"
      },
      "execution_count": null,
      "outputs": [
        {
          "output_type": "execute_result",
          "data": {
            "text/plain": [
              "True"
            ]
          },
          "metadata": {},
          "execution_count": 6
        }
      ]
    },
    {
      "cell_type": "code",
      "source": [
        "\"ACDC\" == \"Michael Jackson\""
      ],
      "metadata": {
        "colab": {
          "base_uri": "https://localhost:8080/"
        },
        "id": "jXKdVxseOGm-",
        "outputId": "f525484b-328b-4705-cd9e-b8ac02a65483"
      },
      "execution_count": null,
      "outputs": [
        {
          "output_type": "execute_result",
          "data": {
            "text/plain": [
              "False"
            ]
          },
          "metadata": {},
          "execution_count": 7
        }
      ]
    },
    {
      "cell_type": "code",
      "source": [
        "\"ACDC\" != \"Michael Jackson\""
      ],
      "metadata": {
        "colab": {
          "base_uri": "https://localhost:8080/"
        },
        "id": "r3GZQ6WuOKq5",
        "outputId": "283e7917-2d44-4a3d-8f90-24330a57e931"
      },
      "execution_count": null,
      "outputs": [
        {
          "output_type": "execute_result",
          "data": {
            "text/plain": [
              "True"
            ]
          },
          "metadata": {},
          "execution_count": 8
        }
      ]
    },
    {
      "cell_type": "code",
      "source": [
        "'!' > '+'"
      ],
      "metadata": {
        "colab": {
          "base_uri": "https://localhost:8080/"
        },
        "id": "p1dMULD3R6_R",
        "outputId": "87b79daa-fd32-4f98-91a9-d567099316e6"
      },
      "execution_count": null,
      "outputs": [
        {
          "output_type": "execute_result",
          "data": {
            "text/plain": [
              "False"
            ]
          },
          "metadata": {},
          "execution_count": 9
        }
      ]
    },
    {
      "cell_type": "code",
      "source": [
        "'!' < '+'"
      ],
      "metadata": {
        "colab": {
          "base_uri": "https://localhost:8080/"
        },
        "id": "2K5blHR2SCT3",
        "outputId": "28004dd7-f45a-45cc-d89e-5857c893ba46"
      },
      "execution_count": null,
      "outputs": [
        {
          "output_type": "execute_result",
          "data": {
            "text/plain": [
              "True"
            ]
          },
          "metadata": {},
          "execution_count": 10
        }
      ]
    },
    {
      "cell_type": "markdown",
      "source": [
        "**Percabangan**"
      ],
      "metadata": {
        "id": "ORx1hDshnfBK"
      }
    },
    {
      "cell_type": "code",
      "source": [
        "#If\n",
        "age = 19\n",
        "age = 18\n",
        "\n",
        "if age > 18:\n",
        "\n",
        "    print(\"you can enter\" )\n",
        "\n",
        "print(\"move on\")"
      ],
      "metadata": {
        "colab": {
          "base_uri": "https://localhost:8080/"
        },
        "id": "YywVsufzndiq",
        "outputId": "3a108d8f-cd0a-466b-e7f2-e6ee7f05b925"
      },
      "execution_count": null,
      "outputs": [
        {
          "output_type": "stream",
          "name": "stdout",
          "text": [
            "move on\n"
          ]
        }
      ]
    },
    {
      "cell_type": "code",
      "source": [
        "#Else\n",
        "age = 18\n",
        "\n",
        "if age < 17:\n",
        "\n",
        "    print(\"you can enter\" )\n",
        "\n",
        "else:\n",
        "    print(\"you can't enter\" )\n",
        "\n",
        "print(\"move on\")"
      ],
      "metadata": {
        "colab": {
          "base_uri": "https://localhost:8080/"
        },
        "outputId": "2074ebf6-b202-4e59-b02b-0c577e198966",
        "id": "l180dAIKqs8P"
      },
      "execution_count": null,
      "outputs": [
        {
          "output_type": "stream",
          "name": "stdout",
          "text": [
            "you can't enter\n",
            "move on\n"
          ]
        }
      ]
    },
    {
      "cell_type": "code",
      "source": [
        "#Elif\n",
        "age = 17\n",
        "\n",
        "if age > 17:\n",
        "\n",
        "    print(\"you can enter\" )\n",
        "\n",
        "elif age == 17:\n",
        "\n",
        "    print(\"you can stay\")\n",
        "\n",
        "else:\n",
        "    print(\"you can't enter\" )\n",
        "\n",
        "print(\"move on\")"
      ],
      "metadata": {
        "colab": {
          "base_uri": "https://localhost:8080/"
        },
        "outputId": "a69bb372-e55e-4185-89d7-8d254a32fced",
        "id": "XXeWNS4rumBj"
      },
      "execution_count": null,
      "outputs": [
        {
          "output_type": "stream",
          "name": "stdout",
          "text": [
            "you can stay\n",
            "move on\n"
          ]
        }
      ]
    },
    {
      "cell_type": "markdown",
      "source": [
        "Operator Logika"
      ],
      "metadata": {
        "id": "ljELnT7Nz5Rw"
      }
    },
    {
      "cell_type": "code",
      "source": [
        "#and\n",
        "\n",
        "album_year = 1980\n",
        "\n",
        "if(album_year > 1979) and (album_year < 1990):\n",
        "    print (\"Album year was in between 1980 and 1989\")\n",
        "\n",
        "print(\"\")\n",
        "print(\"Do Stuff..\")"
      ],
      "metadata": {
        "colab": {
          "base_uri": "https://localhost:8080/"
        },
        "id": "-mdCZes-z4Z-",
        "outputId": "c239edb5-327b-4b17-8e6c-76fa843ad474"
      },
      "execution_count": null,
      "outputs": [
        {
          "output_type": "stream",
          "name": "stdout",
          "text": [
            "Album year was in between 1980 and 1989\n",
            "\n",
            "Do Stuff..\n"
          ]
        }
      ]
    },
    {
      "cell_type": "code",
      "source": [
        "album_year = 1982\n",
        "\n",
        "if(album_year < 1980) or (album_year > 1989):\n",
        "    print (\"Album was not made in the 1980's\")\n",
        "else:\n",
        "    print(\"The Album was made in the 1980's \")"
      ],
      "metadata": {
        "colab": {
          "base_uri": "https://localhost:8080/"
        },
        "id": "S39UFEzd0INo",
        "outputId": "2b15838b-cc5c-486b-b445-1f6b70041e2d"
      },
      "execution_count": null,
      "outputs": [
        {
          "output_type": "stream",
          "name": "stdout",
          "text": [
            "The Album was made in the 1980's \n"
          ]
        }
      ]
    },
    {
      "cell_type": "code",
      "source": [
        "#not\n",
        "\n",
        "album_year = 1989\n",
        "\n",
        "if not (album_year == 1984):\n",
        "    print (\"Album year is not 1984\")\n",
        "else:\n",
        "    print(\"Album year is 1984\")"
      ],
      "metadata": {
        "colab": {
          "base_uri": "https://localhost:8080/"
        },
        "id": "7n6__BkY2Qm6",
        "outputId": "ee202421-571c-4e5a-e7e8-bd93fcc48c3c"
      },
      "execution_count": null,
      "outputs": [
        {
          "output_type": "stream",
          "name": "stdout",
          "text": [
            "Album year is not 1984\n"
          ]
        }
      ]
    },
    {
      "cell_type": "markdown",
      "source": [
        "# **Quiz**"
      ],
      "metadata": {
        "id": "JRbSkcIW4SLb"
      }
    },
    {
      "cell_type": "code",
      "source": [
        "Rate = 8.5\n",
        "\n",
        "if(Rate > 8):\n",
        "  print(\"This album is Amazing!\")"
      ],
      "metadata": {
        "colab": {
          "base_uri": "https://localhost:8080/"
        },
        "id": "qq4nAMCn4UvK",
        "outputId": "c0f4ab36-ca07-4d63-c8da-c1d7be6fa126"
      },
      "execution_count": null,
      "outputs": [
        {
          "output_type": "stream",
          "name": "stdout",
          "text": [
            "This album is Amazing!\n"
          ]
        }
      ]
    },
    {
      "cell_type": "code",
      "source": [
        "Rate = 7\n",
        "\n",
        "if(Rate > 8):\n",
        "  print(\"This album is Amazing\")\n",
        "else:\n",
        "  print(\"This album is ok\")"
      ],
      "metadata": {
        "colab": {
          "base_uri": "https://localhost:8080/"
        },
        "id": "gDXIzEUI4--n",
        "outputId": "d5211656-66a9-495f-a91a-45c27f1fac3f"
      },
      "execution_count": null,
      "outputs": [
        {
          "output_type": "stream",
          "name": "stdout",
          "text": [
            "This album is ok\n"
          ]
        }
      ]
    },
    {
      "cell_type": "code",
      "source": [
        "album_year = 1993\n",
        "\n",
        "if(album_year < 1980) or (album_year == 1991) or (album_year == 1993):\n",
        "    print (\"Yes, this album came out\", album_year)"
      ],
      "metadata": {
        "colab": {
          "base_uri": "https://localhost:8080/"
        },
        "id": "Mq96DMkx5xlN",
        "outputId": "2cdf2c5c-ac8d-47d2-c877-ed2be156cd78"
      },
      "execution_count": null,
      "outputs": [
        {
          "output_type": "stream",
          "name": "stdout",
          "text": [
            "Yes, this album came out 1993\n"
          ]
        }
      ]
    },
    {
      "cell_type": "markdown",
      "source": [
        "# **Excercise 1**"
      ],
      "metadata": {
        "id": "d3c7Fg_I0E0g"
      }
    },
    {
      "cell_type": "code",
      "source": [
        "umur = int(input('Umur: ' ))\n",
        "\n",
        "if umur >= 17:\n",
        "        print(\"Boleh membuat sim\")\n",
        "else:\n",
        "        print(\"Tidak boleh membuat sim\")"
      ],
      "metadata": {
        "colab": {
          "base_uri": "https://localhost:8080/"
        },
        "id": "nNcZbOzPnVUj",
        "outputId": "eed5a4ae-77e1-4a36-d4d9-a62124c2d44e"
      },
      "execution_count": null,
      "outputs": [
        {
          "output_type": "stream",
          "name": "stdout",
          "text": [
            "Umur: 17\n",
            "Boleh membuat sim\n"
          ]
        }
      ]
    },
    {
      "cell_type": "markdown",
      "source": [
        "# **Excercise 2**"
      ],
      "metadata": {
        "id": "iDoeC_oI3jnt"
      }
    },
    {
      "cell_type": "code",
      "source": [
        "nilai = int(input('Nilai: ' ))\n",
        "\n",
        "if nilai >= 90:\n",
        "      print(\"Grade = A\")\n",
        "elif nilai >= 80:\n",
        "        print(\"Grade = B+\")\n",
        "elif nilai >= 70:\n",
        "        print(\"Grade = B\")\n",
        "elif nilai >= 60:\n",
        "        print(\"Grade = C+\")\n",
        "elif nilai >= 50:\n",
        "        print(\"Grade = C\")\n",
        "elif nilai >= 40:\n",
        "        print(\"Grade = D\")\n",
        "else:\n",
        "        print(\"Grade = E\")"
      ],
      "metadata": {
        "colab": {
          "base_uri": "https://localhost:8080/"
        },
        "id": "hNEYJP1toxm9",
        "outputId": "a619cbec-cf49-40fe-81f9-693ae8efe53d"
      },
      "execution_count": null,
      "outputs": [
        {
          "output_type": "stream",
          "name": "stdout",
          "text": [
            "Nilai: 75\n",
            "Grade = B\n"
          ]
        }
      ]
    },
    {
      "cell_type": "markdown",
      "source": [
        "# **Excercise 3**"
      ],
      "metadata": {
        "id": "B3Cd9t2P3nMn"
      }
    },
    {
      "cell_type": "code",
      "source": [
        "nilai = float(input('Nilai: '))\n",
        "\n",
        "if 80.00 <= nilai <= 100:\n",
        "    print(\"Grade = A\")\n",
        "elif 77.50 <= nilai <= 79.99:\n",
        "    print(\"Grade = A-\")\n",
        "elif 75.00 <= nilai <= 77.49:\n",
        "    print(\"Grade = A/B\")\n",
        "elif 72.50 <= nilai <= 74.99:\n",
        "    print(\"Grade = B+\")\n",
        "elif 70.00 <= nilai <= 72.49:\n",
        "    print(\"Grade = B\")\n",
        "elif 67.50 <= nilai <= 70.00:\n",
        "    print(\"Grade = B-\")\n",
        "elif 65.00 <= nilai <= 67.49:\n",
        "    print(\"Grade = B/C\")\n",
        "elif 62.50 <= nilai <= 64.99:\n",
        "    print(\"Grade = C+\")\n",
        "elif 60.00 <= nilai <= 62.49:\n",
        "    print(\"Grade = C\")\n",
        "elif 55.00 <= nilai <= 59.99:\n",
        "    print(\"Grade = C-\")\n",
        "elif 50.00 <= nilai <= 54.99:\n",
        "    print(\"Grade = C/D\")\n",
        "elif 45.00 <= nilai <= 49.99:\n",
        "    print(\"Grade = D+\")\n",
        "elif 40.00 <= nilai <= 44.99:\n",
        "    print(\"Grade = D\")\n",
        "else:\n",
        "    print(\"Grade = E\")"
      ],
      "metadata": {
        "colab": {
          "base_uri": "https://localhost:8080/"
        },
        "id": "Lsr9pxGFr61F",
        "outputId": "fc331f9f-5083-4ec3-eee8-96b25b91bb25"
      },
      "execution_count": null,
      "outputs": [
        {
          "output_type": "stream",
          "name": "stdout",
          "text": [
            "Nilai: 25.85\n",
            "Grade = E\n"
          ]
        }
      ]
    }
  ]
}